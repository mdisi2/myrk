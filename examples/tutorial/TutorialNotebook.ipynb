{
 "cells": [
  {
   "cell_type": "markdown",
   "id": "f65ba973",
   "metadata": {},
   "source": [
    "# PyRK tutorial by Example\n"
   ]
  },
  {
   "cell_type": "markdown",
   "id": "23360767",
   "metadata": {},
   "source": [
    "##### This follow-along example is written to follow along in VScode. This tutorial also assumes the reader has no prior knowledge of reactor physics and will include some brief explanations of some of the physics."
   ]
  },
  {
   "cell_type": "markdown",
   "id": "8e5c3eeb",
   "metadata": {
    "vscode": {
     "languageId": "plaintext"
    }
   },
   "source": [
    "## Requirements and Instilation"
   ]
  },
  {
   "cell_type": "markdown",
   "id": "ccae2746",
   "metadata": {},
   "source": [
    "#### i)   Cloning PyRK in VScode"
   ]
  },
  {
   "cell_type": "markdown",
   "id": "59c3ab8e",
   "metadata": {},
   "source": [
    "\n",
    "To clone the official PyRK repository:\n",
    "\n",
    "1. `Ctrl+P` to open the **Command Palette** in VS Code\n",
    "2. Run the line:\n",
    "\n",
    "   ```bash\n",
    "   git clone https://github.com/pyrk/pyrk.git\n",
    "\n",
    "If you wish to use your own fork, change the link."
   ]
  },
  {
   "cell_type": "markdown",
   "id": "65d501c4",
   "metadata": {
    "vscode": {
     "languageId": "plaintext"
    }
   },
   "source": [
    "### ii) Installing required libraries"
   ]
  },
  {
   "cell_type": "markdown",
   "id": "9e668f3b",
   "metadata": {},
   "source": [
    "\n",
    "PyRK requires some additional Python libraries to run simulations. A list of these libraries has been included in the source code. Once PyRK is cloned, open a new terminal and run this command in the terminal to install the required libraries:\n",
    "\n",
    "```bash\n",
    "pip install -r requirements.txt"
   ]
  },
  {
   "cell_type": "markdown",
   "id": "e8d5c98c",
   "metadata": {},
   "source": [
    "### iii)  Installing PyRK"
   ]
  },
  {
   "cell_type": "markdown",
   "id": "4302c089",
   "metadata": {},
   "source": [
    "To install PyRK, run this line in the terminal:\n",
    "\n",
    "```bash\n",
    "python setup.py install \n",
    "```\n",
    "\n",
    "You should be ready to start using PyRK!   "
   ]
  },
  {
   "cell_type": "markdown",
   "id": "6df26468",
   "metadata": {},
   "source": [
    "## Example Simulations"
   ]
  },
  {
   "cell_type": "markdown",
   "id": "252964c4",
   "metadata": {},
   "source": [
    "PyRK runs simulations by passing two arguments into a driver script, the input file and the output folder location. PyRK comes with several examples, so it is recommended to run some of the examples before your own to check if PyRK is installed correctly and to get a sense of how PyRK works. \n",
    "\n",
    "To run the 'default' example, run this line in the terminal:\n",
    "\n",
    "```bash\n",
    "python .\\pyrk\\driver.py --infile=examples\\default\\input.py --plotdir=out\\default\n",
    "\n",
    "python ./pyrk/driver.py --infile=examples/default/input.py --plotdir=out/default\n",
    "```\n",
    "- '.\\pyrk\\driver.py' locates and runs the driver.\n",
    "- 'infile=examples...' locates the input (.py file) containing the reactor parameters.\n",
    "- '--plotdir=out...' will create a folder to save the output data.\n",
    "\n",
    "Change each of these components to your desired specifications when running your own simulations. The default example should only take a minute to complete."
   ]
  },
  {
   "cell_type": "markdown",
   "id": "510a81d6",
   "metadata": {
    "vscode": {
     "languageId": "plaintext"
    }
   },
   "source": [
    "## Tutorial By Example "
   ]
  },
  {
   "cell_type": "code",
   "execution_count": null,
   "id": "ea5d6e91",
   "metadata": {},
   "outputs": [],
   "source": [
    "from pyrk.utilities.ur import units\n",
    "from pyrk import th_component as th\n",
    "import math\n",
    "from pyrk.materials.material import Material\n",
    "from pyrk.materials.liquid_material import LiquidMaterial\n",
    "from pyrk.convective_model import ConvectiveModel\n",
    "from pyrk.density_model import DensityModel\n",
    "from pyrk.timer import Timer\n",
    "\n",
    "def area_sphere(r):\n",
    "    assert(r >= 0 * units.meter)\n",
    "    return (4.0) * math.pi * pow(r.to('meter'), 2)\n",
    "\n",
    "\n",
    "def vol_sphere(r):\n",
    "    assert(r >= 0 * units.meter)\n",
    "    return (4. / 3.) * math.pi * pow(r.to('meter'), 3)"
   ]
  },
  {
   "cell_type": "markdown",
   "id": "71c500cc",
   "metadata": {},
   "source": [
    "This tutorial will follow along with the PBFHR examples, modeled after the Pebble-Bed **F**luoride salt \n",
    "cooled **H**igh temperature **R**eactor proposed by the [University of California, Berkely](https://fhr.nuc.berkeley.edu/pb-fhr-technology/). \n",
    "\n",
    "Each input file has two parts, the 'user workspace' and the 'user input.' The user workspace are the simulation parameters relating to physical or geometric properties of the reactor, reactivity feedbacks, or the timer and timesteps; properties typically outside of the 'control' of the user. The 'user input' is where the user is able to introduce transients, introduce feedback mechanisms, insert reactivity, and fine-tune the ODE solvers - where the actual reactor 'kinetics' happens."
   ]
  },
  {
   "cell_type": "markdown",
   "id": "102005eb",
   "metadata": {},
   "source": [
    "## 1)  User Workspace"
   ]
  },
  {
   "cell_type": "markdown",
   "id": "6d603c02",
   "metadata": {},
   "source": [
    "### Simulation Timestep Parameters"
   ]
  },
  {
   "cell_type": "code",
   "execution_count": null,
   "id": "ec2f2d35",
   "metadata": {},
   "outputs": [],
   "source": [
    "# Initial time\n",
    "t0 = 0.00 * units.seconds\n",
    "# Timestep\n",
    "dt = 0.02 * units.seconds\n",
    "# Final Time\n",
    "tf = 250.0 * units.seconds\n",
    "# Time to turn on feedback\n",
    "t_feedback = 150.0 * units.seconds"
   ]
  },
  {
   "cell_type": "markdown",
   "id": "a883c23c",
   "metadata": {},
   "source": [
    "### Thermal hydraulic params"
   ]
  },
  {
   "cell_type": "code",
   "execution_count": null,
   "id": "39947e0d",
   "metadata": {},
   "outputs": [],
   "source": [
    "# Temperature feedbacks of reactivity\n",
    "alpha_fuel = -3.19 * units.pcm / units.kelvin\n",
    "alpha_mod = -0.7 * units.pcm / units.kelvin\n",
    "alpha_shell = -0.7 * units.pcm / units.kelvin\n",
    "alpha_cool = 0.23 * units.pcm / units.kelvin"
   ]
  },
  {
   "cell_type": "markdown",
   "id": "d24f56b8",
   "metadata": {},
   "source": [
    "### Initial Temperatures"
   ]
  },
  {
   "cell_type": "code",
   "execution_count": null,
   "id": "33a17e99",
   "metadata": {},
   "outputs": [],
   "source": [
    "t_mod = (800 + 273.15) * units.kelvin\n",
    "t_fuel = (800 + 273.15) * units.kelvin\n",
    "t_shell = (770 + 273.15) * units.kelvin\n",
    "t_cool = (650 + 273.15) * units.kelvin\n",
    "\n",
    "# Kappa\n",
    "kappa = 0.0"
   ]
  },
  {
   "cell_type": "markdown",
   "id": "d7407203",
   "metadata": {},
   "source": [
    "### Volumes and Areas"
   ]
  },
  {
   "cell_type": "code",
   "execution_count": null,
   "id": "47904aa0",
   "metadata": {},
   "outputs": [],
   "source": [
    "n_pebbles = 470000\n",
    "r_mod = 1.25 / 100.0 * units.meter\n",
    "r_fuel = 1.4 / 100.0 * units.meter\n",
    "r_shell = 1.5 / 100.0 * units.meter\n",
    "\n",
    "vol_mod = vol_sphere(r_mod)\n",
    "vol_fuel = vol_sphere(r_fuel) - vol_sphere(r_mod)\n",
    "vol_shell = vol_sphere(r_shell) - vol_sphere(r_fuel)\n",
    "vol_cool = (vol_mod + vol_fuel + vol_shell) * 0.4 / 0.6\n",
    "a_pb = area_sphere(r_shell)"
   ]
  },
  {
   "cell_type": "markdown",
   "id": "9e861c79",
   "metadata": {},
   "source": [
    "## 2)  User Input"
   ]
  },
  {
   "cell_type": "code",
   "execution_count": null,
   "id": "f1a0799c",
   "metadata": {},
   "outputs": [],
   "source": [
    "# Total power, Watts, thermal\n",
    "power_tot = 234000000.0 * units.watt\n",
    "\n",
    "# Timer instance, based on t0, tf, dt\n",
    "ti = Timer(t0=t0, tf=tf, dt=dt, t_feedback=t_feedback)\n",
    "\n",
    "# Number of precursor groups\n",
    "n_pg = 6\n",
    "\n",
    "# Number of decay heat groups\n",
    "n_dg = 0\n",
    "\n",
    "# Fissioning Isotope\n",
    "fission_iso = \"fhr\"\n",
    "# Spectrum\n",
    "spectrum = \"thermal\"\n",
    "\n",
    "# Feedbacks, False to turn reactivity feedback off. True otherwise.\n",
    "feedback = True\n",
    "\n",
    "# maximum number of internal steps that the ode solver will take\n",
    "nsteps = 5000\n",
    "\n",
    "# Flow rate and inlet temperature of the coolant\n",
    "m_flow = 976.0 * units.kg / units.seconds\n",
    "t_inlet = units.Quantity(600.0, units.degC)"
   ]
  },
  {
   "cell_type": "markdown",
   "id": "ca8d5882",
   "metadata": {},
   "source": [
    "### Reactivity Insertion"
   ]
  },
  {
   "cell_type": "code",
   "execution_count": null,
   "id": "226dbe7d",
   "metadata": {},
   "outputs": [],
   "source": [
    "from pyrk.reactivity_insertion import StepReactivityInsertion\n",
    "rho_ext = StepReactivityInsertion(timer=ti,\n",
    "                                  t_step=t_feedback + 10.0 * units.seconds,\n",
    "                                  rho_init=0.0 * units.delta_k,\n",
    "                                  rho_final=650.0 * 2 * units.pcm)"
   ]
  },
  {
   "cell_type": "markdown",
   "id": "fd0b2311",
   "metadata": {},
   "source": [
    "### Moderator Initialization"
   ]
  },
  {
   "cell_type": "code",
   "execution_count": null,
   "id": "fe932c37",
   "metadata": {},
   "outputs": [],
   "source": [
    "k_mod = 17 * units.watt / (units.meter * units.kelvin)\n",
    "cp_mod = 1650.0 * units.joule / (units.kg * units.kelvin)\n",
    "rho_mod = DensityModel(a=1740. * units.kg / (units.meter**3), model=\"constant\")\n",
    "Moderator = Material('mod', k_mod, cp_mod, rho_mod)"
   ]
  },
  {
   "cell_type": "markdown",
   "id": "cc6cbe93",
   "metadata": {},
   "source": [
    "### Shell Initialization"
   ]
  },
  {
   "cell_type": "code",
   "execution_count": null,
   "id": "92c74e86",
   "metadata": {},
   "outputs": [],
   "source": [
    "k_shell = 17 * units.watt / (units.meter * units.kelvin)\n",
    "cp_shell = 1650.0 * units.joule / (units.kg * units.kelvin)\n",
    "rho_shell = DensityModel(a=1740. * units.kg /\n",
    "                         (units.meter**3), model=\"constant\")\n",
    "Shell = Material('shell', k_shell, cp_shell, rho_shell)"
   ]
  },
  {
   "cell_type": "markdown",
   "id": "ec4e05b9",
   "metadata": {},
   "source": [
    "### Fuel Initialization"
   ]
  },
  {
   "cell_type": "code",
   "execution_count": null,
   "id": "96e62dbc",
   "metadata": {},
   "outputs": [],
   "source": [
    "k_fuel = 15 * units.watt / (units.meter * units.kelvin)\n",
    "cp_fuel = 1818.0 * units.joule / units.kg / units.kelvin\n",
    "rho_fuel = DensityModel(a=2220.0 * units.kg /\n",
    "                        (units.meter**3), model=\"constant\")\n",
    "Fuel = Material('fuel', k_fuel, cp_fuel, rho_fuel)"
   ]
  },
  {
   "cell_type": "markdown",
   "id": "2172e3f6",
   "metadata": {},
   "source": [
    "### Coolant Initialization"
   ]
  },
  {
   "cell_type": "code",
   "execution_count": null,
   "id": "74ff9a82",
   "metadata": {},
   "outputs": [],
   "source": [
    "mu0 = 0 * units.pascal * units.second\n",
    "k_cool = 1 * units.watt / (units.meter * units.kelvin)\n",
    "cp_cool = 2415.78 * units.joule / (units.kg * units.kelvin)\n",
    "rho_cool = DensityModel(a=2415.6 *\n",
    "                        units.kg /\n",
    "                        (units.meter**3), b=0.49072 *\n",
    "                        units.kg /\n",
    "                        (units.meter**3) /\n",
    "                        units.kelvin, model=\"linear\")\n",
    "cool = LiquidMaterial('cool', k_cool, cp_cool, rho_cool, mu0)"
   ]
  },
  {
   "cell_type": "markdown",
   "id": "7a4f0c58",
   "metadata": {},
   "source": [
    "### Convection Model"
   ]
  },
  {
   "cell_type": "code",
   "execution_count": null,
   "id": "768e927e",
   "metadata": {},
   "outputs": [],
   "source": [
    "h_cool = ConvectiveModel(\n",
    "    h0=4700.0 *\n",
    "    units.watt /\n",
    "    units.kelvin /\n",
    "    units.meter**2,\n",
    "    mat=cool,\n",
    "    model='constant')"
   ]
  },
  {
   "cell_type": "markdown",
   "id": "44fb3da0",
   "metadata": {},
   "source": [
    "### Thermal-Hydraulic Solver Parameters"
   ]
  },
  {
   "cell_type": "code",
   "execution_count": null,
   "id": "5ca86c87",
   "metadata": {},
   "outputs": [],
   "source": [
    "mod = th.THComponent(name=\"mod\",\n",
    "                     mat=Moderator,\n",
    "                     vol=vol_mod,\n",
    "                     T0=t_mod,\n",
    "                     alpha_temp=alpha_mod,\n",
    "                     timer=ti,\n",
    "                     sph=True,\n",
    "                     ri=0.0 * units.meter,\n",
    "                     ro=r_mod)\n",
    "\n",
    "fuel = th.THComponent(name=\"fuel\",\n",
    "                      mat=Fuel,\n",
    "                      vol=vol_fuel,\n",
    "                      T0=t_fuel,\n",
    "                      alpha_temp=alpha_fuel,\n",
    "                      timer=ti,\n",
    "                      heatgen=True,\n",
    "                      power_tot=power_tot / n_pebbles,\n",
    "                      sph=True,\n",
    "                      ri=r_mod,\n",
    "                      ro=r_fuel\n",
    "                      )\n",
    "shell = th.THComponent(name=\"shell\",\n",
    "                       mat=Shell,\n",
    "                       vol=vol_shell,\n",
    "                       T0=t_shell,\n",
    "                       alpha_temp=alpha_shell,\n",
    "                       timer=ti,\n",
    "                       sph=True,\n",
    "                       ri=r_fuel,\n",
    "                       ro=r_shell)"
   ]
  },
  {
   "cell_type": "markdown",
   "id": "6d8dce5d",
   "metadata": {},
   "source": [
    "### Mesh and Pebble Treatment"
   ]
  },
  {
   "cell_type": "code",
   "execution_count": null,
   "id": "cb4b51f1",
   "metadata": {},
   "outputs": [],
   "source": [
    "# mesh size for the fuel pebble FVM calculation\n",
    "l = 0.0005 * units.meter\n",
    "comp_list = mod.mesh(l)\n",
    "comp_list.extend(fuel.mesh(l))\n",
    "comp_list.extend(shell.mesh(l))\n",
    "pebble = th.THSuperComponent('pebble', t_shell, comp_list, timer=ti)\n",
    "# Add convective boundary condition to the pebble\n",
    "pebble.add_conv_bc('cool', h=h_cool)\n",
    "\n",
    "cool = th.THComponent(name=\"cool\",\n",
    "                      mat=cool,\n",
    "                      vol=vol_cool,\n",
    "                      T0=t_cool,\n",
    "                      alpha_temp=alpha_cool,\n",
    "                      timer=ti)\n",
    "# The coolant convects to the shell\n",
    "cool.add_convection('pebble', h=h_cool, area=a_pb)\n",
    "cool.add_advection('cool', m_flow / n_pebbles, t_inlet, cp=cool.cp)\n",
    "\n",
    "components = []\n",
    "for i in range(0, len(pebble.sub_comp)):\n",
    "    components.append(pebble.sub_comp[i])\n",
    "components.extend([pebble, cool])"
   ]
  },
  {
   "cell_type": "markdown",
   "id": "08c8e54f",
   "metadata": {},
   "source": [
    "## Running This Notebook\n",
    "\n",
    "#### Run this cell to convert everything in this notebook into a ``.py`` file for PyRK to read! Just copy the absolute path of this notebook and paste it into ``notebook_path``. Make sure to keep the `r` before the path."
   ]
  },
  {
   "cell_type": "code",
   "execution_count": null,
   "id": "7ba912ef",
   "metadata": {},
   "outputs": [
    {
     "name": "stdout",
     "output_type": "stream",
     "text": [
      "python ./pyrk/driver.py --infile=examples/tutorial/TutorialNotebook.py --plotdir=out/tutorial\n"
     ]
    }
   ],
   "source": [
    "# ignore\n",
    "import nbformat\n",
    "from pathlib import Path\n",
    "\n",
    "notebook_path = r\"path/to/TutorialNotebook.ipynb\"\n",
    "op = notebook_path.replace('.ipynb', '.py')\n",
    "output_path = Path(op)\n",
    "\n",
    "with open(notebook_path, 'r', encoding='utf-8') as f:\n",
    "    nb = nbformat.read(f, as_version=4)\n",
    "\n",
    "python_cells = [\n",
    "    cell.source for cell in nb.cells\n",
    "    if cell.cell_type == 'code' and '# ignore' not in cell.source\n",
    "]\n",
    "\n",
    "with open(output_path, 'w', encoding='utf-8') as f:\n",
    "    for cell in python_cells:\n",
    "        f.write(cell + \"\\n\\n\")\n",
    "\n",
    "linux = \"python ./pyrk/driver.py --infile=examples/tutorial/TutorialNotebook.py --plotdir=out/tutorial\"\n",
    "print(linux)"
   ]
  }
 ],
 "metadata": {
  "kernelspec": {
   "display_name": "base",
   "language": "python",
   "name": "python3"
  },
  "language_info": {
   "codemirror_mode": {
    "name": "ipython",
    "version": 3
   },
   "file_extension": ".py",
   "mimetype": "text/x-python",
   "name": "python",
   "nbconvert_exporter": "python",
   "pygments_lexer": "ipython3",
   "version": "3.11.5"
  }
 },
 "nbformat": 4,
 "nbformat_minor": 5
}
